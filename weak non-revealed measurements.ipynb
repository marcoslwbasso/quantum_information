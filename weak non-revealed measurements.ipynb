{
 "cells": [
  {
   "cell_type": "code",
   "execution_count": 5,
   "metadata": {},
   "outputs": [],
   "source": [
    "import qiskit\n",
    "from qiskit import *"
   ]
  },
  {
   "cell_type": "markdown",
   "metadata": {},
   "source": [
    "### Circuito para medidas não-reveladas fracas"
   ]
  },
  {
   "cell_type": "markdown",
   "metadata": {},
   "source": [
    "Dado o estado quântico bipartido inicial\n",
    "\\begin{equation}\n",
    "|\\Psi \\rangle_{AB} = |\\psi\\rangle_A \\otimes |\\phi\\rangle_B =  |\\psi\\rangle_A \\otimes \\Big(\\cos\\frac{\\theta}{2} |0 \\rangle_B + \\sin \\frac{\\theta}{2} |1 \\rangle_B\\Big), \n",
    "\\end{equation}\n",
    "onde $|\\phi\\rangle_B$ pode ser obtido a partir de $|\\phi\\rangle_B = U(\\theta) |0 \\rangle_B$\n",
    "\n",
    "Aplicando a porta $C_{not} (A \\to B) := C(A \\to B) = |0 \\rangle \\langle 0| \\otimes I_{2 \\times 2} + |1 \\rangle \\langle 1| \\otimes \\sigma_X$, temos o seguinte estado\n",
    "\\begin{equation}\n",
    "C(A \\to B)|\\Psi \\rangle_{AB} = \\langle 0| \\psi \\rangle \\Big( \\cos\\frac{\\theta}{2} |0,0\\rangle + \\sin\\frac{\\theta}{2} |0,1\\rangle \\Big) + \\langle 1| \\psi \\rangle \\Big( \\cos\\frac{\\theta}{2} |1,1\\rangle + \\sin\\frac{\\theta}{2} |1,0\\rangle \\Big). \n",
    "\\end{equation}\n",
    "Tomando o traço parcial sobre sistema $B$, temos\n",
    "\\begin{align}\n",
    "Tr_B\\Big(C(A \\to B)|\\Psi \\rangle_{AB} \\langle \\Psi | C^{\\dagger}(A \\to B) \\Big) & = |{ \\langle 0| \\psi \\rangle}|^2 |0 \\rangle \\langle 0| + |{ \\langle 1| \\psi \\rangle}|^2 |1 \\rangle \\langle 1| + \\cos\\frac{\\theta}{2}\\sin\\frac{\\theta}{2}\\langle 0| \\psi \\rangle \\langle \\psi| 1 \\rangle |0 \\rangle \\langle 1| + t.c.,\n",
    "\\end{align}\n",
    "mas notando que\n",
    "\\begin{align}\n",
    "\\langle 0| \\psi \\rangle \\langle \\psi| 1 \\rangle |0 \\rangle \\langle 1| = |0 \\rangle \\langle 0| \\psi \\rangle \\langle \\psi| 1 \\rangle \\langle 1| = |0 \\rangle \\langle 0| \\psi \\rangle \\langle \\psi| \\Big( I_{2 \\times 2} - |0 \\rangle \\langle 0| \\Big),\n",
    "\\end{align}\n",
    "e similarmente para o transposto conjugado, obtemos\n",
    "\\begin{align}\n",
    "Tr_B\\Big(C(A \\to B)|\\Psi \\rangle_{AB} \\langle \\Psi | C^{\\dagger}(A \\to B) \\Big) & = (1 - \\cos\\frac{\\theta}{2}\\sin\\frac{\\theta}{2}) \\Phi_{X}(| \\psi \\rangle \\langle \\psi|) + \\cos\\frac{\\theta}{2}\\sin\\frac{\\theta}{2} | \\psi \\rangle \\langle \\psi|,\n",
    "\\end{align}\n",
    "onde $ \\Phi_{X}(| \\psi \\rangle \\langle \\psi|) = \\Pi_0(\\psi \\rangle \\langle \\psi| ) + \\Pi_1(\\psi \\rangle \\langle \\psi| )$  e $\\epsilon := \\cos\\frac{\\theta}{2}\\sin\\frac{\\theta}{2} = \\frac{1}{2}\\sin \\theta \\in [0,1/2]$. Logo, temos que\n",
    "\\begin{align}\n",
    "\\Phi^{\\epsilon}_X(| \\psi \\rangle \\langle \\psi|) = \\epsilon | \\psi \\rangle \\langle \\psi| + (1 - \\epsilon)\\Phi_{X}(| \\psi \\rangle \\langle \\psi|) = Tr_B\\Big(C(A \\to B)|\\Psi \\rangle_{AB} \\langle \\Psi | C^{\\dagger}(A \\to B) \\Big),\n",
    "\\end{align}\n",
    "onde o observável $X$ é referente a base de autoestados $|0\\rangle, |1\\rangle$."
   ]
  },
  {
   "cell_type": "code",
   "execution_count": 14,
   "metadata": {},
   "outputs": [
    {
     "data": {
      "image/png": "[encoded data removed]",
      "text/plain": [
       "<Figure size 220.123x144.48 with 1 Axes>"
      ]
     },
     "execution_count": 14,
     "metadata": {},
     "output_type": "execute_result"
    }
   ],
   "source": [
    "qr = QuantumRegister(2)\n",
    "qc = QuantumCircuit(qr)\n",
    "\n",
    "qc.u(0, 0, 0, qr[1]) #valores aleatórios\n",
    "qc.cx(qr[0],qr[1])\n",
    "\n",
    "qc.draw(output = 'mpl')\n"
   ]
  },
  {
   "cell_type": "markdown",
   "metadata": {},
   "source": [
    "Agora, consideremos uma base numa direção arbitrária dada por\n",
    "\\begin{align}\n",
    "& |n_0 \\rangle = \\cos\\frac{\\theta}{2} |0 \\rangle + e^{i \\phi} \\sin \\frac{\\theta}{2} |1 \\rangle = U(\\theta, \\phi, 0) |0 \\rangle \\\\\n",
    "& |n_1 \\rangle = -\\sin\\frac{\\theta}{2} |0 \\rangle + e^{-i \\phi} \\cos \\frac{\\theta}{2} |1 \\rangle = U(\\theta, \\phi, 0) |1 \\rangle,\n",
    "\\end{align}\n",
    "de modo que\n",
    "\\begin{align}\n",
    "(U \\otimes I_B) C(A \\to B) (U^{\\dagger} \\otimes I_B) |\\Psi\\rangle = \\langle n_0| \\psi \\rangle \\Big( \\cos\\frac{\\theta}{2} |n_0,0\\rangle + \\sin\\frac{\\theta}{2} |n_0,1\\rangle \\Big) + \\langle n_1| \\psi \\rangle \\Big( \\cos\\frac{\\theta}{2} |n_1,1\\rangle + \\sin\\frac{\\theta}{2} |n_1,0\\rangle \\Big), \n",
    "\\end{align}\n",
    "bastando realizar a mesma manipulação que anteriormente. Logo, temos que medidas não reveladas do observável $Y$ referente à base de autovetores $|n_0 \\rangle , |n_1 \\rangle$ são implementadas através de\n",
    "\\begin{align}\n",
    "\\Phi^{\\epsilon}_Y(\\rho_A) = Tr_B \\Big(UC(A\\to B)U^{\\dagger}|\\Psi \\rangle_{AB} \\langle \\Psi |  U C^{\\dagger}(A\\to B)U\\Big), \n",
    "\\end{align}\n",
    "\n",
    "com $\\epsilon = \\frac{1}{2} \\sin \\theta$."
   ]
  },
  {
   "cell_type": "code",
   "execution_count": 16,
   "metadata": {},
   "outputs": [
    {
     "data": {
      "image/png": "[encoded data removed]",
      "text/plain": [
       "<Figure size 280.323x144.48 with 1 Axes>"
      ]
     },
     "execution_count": 16,
     "metadata": {},
     "output_type": "execute_result"
    }
   ],
   "source": [
    "import numpy as np\n",
    "qr = QuantumRegister(2)\n",
    "qc = QuantumCircuit(qr)\n",
    "\n",
    "qc.u(0, np.pi, -np.pi, qr[0]) #inversa de U\n",
    "qc.u(0, 0, 0, qr[1]) #valores aleatórios\n",
    "qc.cx(qr[0],qr[1])\n",
    "qc.u(0, 0, 0, qr[0]) #valores aleatórios\n",
    "\n",
    "\n",
    "qc.draw(output = 'mpl')"
   ]
  },
  {
   "cell_type": "markdown",
   "metadata": {},
   "source": [
    "### Estendendo $\\epsilon \\to [0,1]$ "
   ]
  },
  {
   "cell_type": "markdown",
   "metadata": {},
   "source": [
    "Ao invés de considerarmos a $C_{not}(A \\to B)$, consideremos (como em Information-reality complementarity in photonic weak measurements, Phys. Rev. A 97, 062108 (2018))\n",
    "\\begin{equation}\n",
    "C_Z (A \\to B) = |0 \\rangle \\langle 0| \\otimes I_{2 \\times 2} + |1 \\rangle \\langle 1| \\otimes \\sigma_Z,\n",
    "\\end{equation}\n",
    "de modo que\n",
    "\\begin{align}\n",
    "Tr_B\\Big(C_Z(A \\to B)|\\Psi \\rangle_{AB} \\langle \\Psi | C_Z^{\\dagger}(A \\to B) \\Big) & = \\Big(1 - (\\cos^2\\frac{\\theta}{2} - \\sin^2\\frac{\\theta}{2})\\Big) \\Phi_{X}(| \\psi \\rangle \\langle \\psi|) + (\\cos^2\\frac{\\theta}{2} - \\sin^2\\frac{\\theta}{2})| \\psi \\rangle \\langle \\psi|,\n",
    "\\end{align}\n",
    "definindo \n",
    "\\begin{align}\n",
    "\\epsilon := \\cos^2\\frac{\\theta}{2} - \\sin^2\\frac{\\theta}{2} = \\cos \\theta,\n",
    "\\end{align}\n",
    "temos que $\\epsilon \\in [0,1]$."
   ]
  },
  {
   "cell_type": "code",
   "execution_count": null,
   "metadata": {},
   "outputs": [],
   "source": [
    "\n"
   ]
  }
 ],
 "metadata": {
  "kernelspec": {
   "display_name": "Python 3",
   "language": "python",
   "name": "python3"
  },
  "language_info": {
   "codemirror_mode": {
    "name": "ipython",
    "version": 3
   },
   "file_extension": ".py",
   "mimetype": "text/x-python",
   "name": "python",
   "nbconvert_exporter": "python",
   "pygments_lexer": "ipython3",
   "version": "3.7.6"
  }
 },
 "nbformat": 4,
 "nbformat_minor": 4
}
