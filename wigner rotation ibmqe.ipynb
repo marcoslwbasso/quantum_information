{
 "cells": [
  {
   "cell_type": "markdown",
   "metadata": {},
   "source": [
    "### Wigner Rotations and Kraus Operators\n",
    "\n",
    "Let's consider an specific example to implement the simulation of the Wigner rotations using our protocol. If the momentum is in the $x$-direction of the reference frame $\\mathcal{O}$ such that initial state is given by\n",
    "\\begin{align}\n",
    "    |\\Psi\\rangle = \\frac{1}{2}(|p\\rangle + |-p\\rangle) \\otimes (|\\uparrow\\rangle + |\\downarrow\\rangle),\n",
    "\\end{align}\n",
    "where the quantization spin axis is along the $z$-direction. Therefore, both momentum and spin degrees of freedom can be thinking as qubits. Besides, let's consider that the boost is given in the $z$-axis, then $  D(W(\\Lambda, p)) =  \\cos \\frac{\\phi}{2} \\mathbb{I} + i \\sin \\frac{\\phi}{2} \\sigma_y$. Therefore, the state described by $\\mathcal{O'}$ and to be prepared in the circuit-based quantum computer using state preparation algorithms is given by\n",
    "\\begin{align}\n",
    "    |\\Psi_{\\Lambda}\\rangle & = \\frac{1}{2} |\\Lambda p\\rangle \\otimes \\Big((\\cos \\frac{\\phi}{2} + \\sin \\frac{\\phi}{2})|\\uparrow\\rangle + (\\cos \\frac{\\phi}{2} - \\sin \\frac{\\phi}{2}) |\\downarrow\\rangle \\Big) \\\\\n",
    "    & + \\frac{1}{2} |-\\Lambda p\\rangle \\otimes \\Big((\\cos \\frac{\\phi}{2} - \\sin \\frac{\\phi}{2})|\\uparrow\\rangle + (\\cos \\frac{\\phi}{2} + \\sin \\frac{\\phi}{2}) |\\downarrow\\rangle \\Big), \n",
    "\\end{align}\n",
    "with $\\phi \\in [0, \\pi/2]$. The corresponding Kraus operators are given by\n",
    "\\begin{align}\n",
    "  K_0=\\frac{1}{\\sqrt{2}} \\begin{bmatrix} \\cos \\frac{\\phi}{2} & \\sin \\frac{\\phi}{2}\\\\ - \\sin \\frac{\\phi}{2} & \\cos \\frac{\\phi}{2}  \\\\ \\end{bmatrix}, \\ \\ K_1 = \\frac{1}{\\sqrt{2}} \\begin{bmatrix} \\cos \\frac{\\phi}{2} & - \\sin \\frac{\\phi}{2}\\\\ \\sin \\frac{\\phi}{2} & \\cos \\frac{\\phi}{2}  \\\\ \\end{bmatrix}.   \\nonumber\n",
    "\\end{align}\n",
    "such that reduced spin density matrix is\n",
    "\\begin{align}\n",
    "    \\rho_{\\Lambda s} = \\frac{1}{2} \\begin{bmatrix} 1 & \\cos \\phi \\\\ \\cos \\phi & 1  \\\\ \\end{bmatrix}.\n",
    "\\end{align}\n",
    "\n",
    "\n",
    "Besides, the state $|\\Psi_{\\Lambda}\\rangle$ can be implemented as\n",
    "\\begin{align}\n",
    "|\\Psi_{\\Lambda}\\rangle & = \\Big(|\\Lambda p \\rangle \\langle p| \\otimes D(W(p)) + |\\Lambda -p \\rangle \\langle -p| \\otimes D(W(-p)) \\Big) H \\otimes H |0 \\rangle_p \\otimes | 0 \\rangle_s \\\\\n",
    "& = \\Big(|0\\rangle\\langle 0| \\otimes R_Y^{p \\to s}(-\\phi) + |1\\rangle\\langle 1| \\otimes R_Y^{p \\to s}(\\phi)\\Big) H \\otimes H |0 \\rangle_p \\otimes | 0 \\rangle_s \\\\\n",
    "& = CR_Y^{p \\to s}(\\phi) (\\sigma_x \\otimes I) CR_Y^{p \\to s}(-\\phi) (\\sigma_x \\otimes I)H \\otimes H |0 \\rangle_p \\otimes | 0 \\rangle_s\n",
    "\\end{align}"
   ]
  },
  {
   "cell_type": "code",
   "execution_count": 1,
   "metadata": {},
   "outputs": [],
   "source": [
    "%run init.ipynb\n",
    "%run ptr.ipynb\n",
    "%run jupyterQ.ipynb\n",
    "\n",
    "import qiskit\n",
    "\n",
    "from qiskit import *"
   ]
  },
  {
   "cell_type": "code",
   "execution_count": 2,
   "metadata": {},
   "outputs": [],
   "source": [
    "def coh_l1(rho):\n",
    "    d = rho.shape[0]; C = 0\n",
    "    for j in range(0,d-1):\n",
    "        for k in range(j+1,d):\n",
    "            C += abs(rho[j,k])\n",
    "    return 2*C\n",
    "\n"
   ]
  },
  {
   "cell_type": "code",
   "execution_count": 3,
   "metadata": {},
   "outputs": [],
   "source": [
    "from qiskit import IBMQ"
   ]
  },
  {
   "cell_type": "code",
   "execution_count": 4,
   "metadata": {},
   "outputs": [],
   "source": [
    "IBMQ.save_account('407eee087e66afb971221353c2214710f90034665067ef91fefb09e98c6c99d94ff4f4f1c14131a196c09a5d24a4368e1aaa03b0f3d99578f0b8f47071995da6', overwrite = True)"
   ]
  },
  {
   "cell_type": "code",
   "execution_count": 5,
   "metadata": {},
   "outputs": [
    {
     "data": {
      "text/plain": [
       "<AccountProvider for IBMQ(hub='ibm-q', group='open', project='main')>"
      ]
     },
     "execution_count": 5,
     "metadata": {},
     "output_type": "execute_result"
    }
   ],
   "source": [
    "qiskit.IBMQ.load_account()"
   ]
  },
  {
   "cell_type": "code",
   "execution_count": 6,
   "metadata": {},
   "outputs": [],
   "source": [
    "provider = qiskit.IBMQ.get_provider(hub='ibm-q', group='open', project='main')"
   ]
  },
  {
   "cell_type": "code",
   "execution_count": 7,
   "metadata": {},
   "outputs": [],
   "source": [
    "from qiskit.tools.monitor import backend_overview, backend_monitor"
   ]
  },
  {
   "cell_type": "code",
   "execution_count": 8,
   "metadata": {},
   "outputs": [
    {
     "name": "stdout",
     "output_type": "stream",
     "text": [
      "ibm_oslo                     ibm_nairobi                  ibmq_manila\n",
      "--------                     -----------                  -----------\n",
      "Num. Qubits:  7              Num. Qubits:  7              Num. Qubits:  5\n",
      "Pending Jobs: 106            Pending Jobs: 540            Pending Jobs: 395\n",
      "Least busy:   False          Least busy:   False          Least busy:   False\n",
      "Operational:  True           Operational:  True           Operational:  True\n",
      "Avg. T1:      123.0          Avg. T1:      150.4          Avg. T1:      184.4\n",
      "Avg. T2:      76.4           Avg. T2:      99.8           Avg. T2:      59.6\n",
      "\n",
      "\n",
      "\n",
      "ibmq_quito                   ibmq_belem                   ibmq_lima\n",
      "----------                   ----------                   ---------\n",
      "Num. Qubits:  5              Num. Qubits:  5              Num. Qubits:  5\n",
      "Pending Jobs: 88             Pending Jobs: 51             Pending Jobs: 480\n",
      "Least busy:   False          Least busy:   True           Least busy:   False\n",
      "Operational:  True           Operational:  True           Operational:  True\n",
      "Avg. T1:      92.7           Avg. T1:      78.2           Avg. T1:      88.6\n",
      "Avg. T2:      80.7           Avg. T2:      104.0          Avg. T2:      97.9\n",
      "\n",
      "\n",
      "\n"
     ]
    }
   ],
   "source": [
    "backend_overview()"
   ]
  },
  {
   "cell_type": "code",
   "execution_count": 9,
   "metadata": {},
   "outputs": [
    {
     "name": "stdout",
     "output_type": "stream",
     "text": [
      "635aafcb1c0b4ad213cae0e4\n",
      "Job Status: job has successfully run\n"
     ]
    }
   ],
   "source": [
    "device = provider.get_backend('ibmq_belem')\n",
    "\n",
    "from qiskit.tools.monitor import job_monitor\n",
    "qr = QuantumRegister(2)\n",
    "qc = qiskit.QuantumCircuit(qr); \n",
    "qc_cal = qiskit.QuantumCircuit(qr)\n",
    "from qiskit.ignis.mitigation.measurement import (complete_meas_cal, CompleteMeasFitter)\n",
    "cal_circuits, state_labels = complete_meas_cal(qr = qc.qregs[0], circlabel = 'mmc')\n",
    "cal_job = execute(cal_circuits, backend = device, shots = 8192, optimization_level = 0)\n",
    "print(cal_job.job_id())\n",
    "job_monitor(cal_job)\n",
    "cal_results = cal_job.result()\n",
    "meas_fitter = CompleteMeasFitter(cal_results, state_labels)\n",
    "meas_filter = meas_fitter.filter"
   ]
  },
  {
   "cell_type": "code",
   "execution_count": 15,
   "metadata": {},
   "outputs": [
    {
     "name": "stdout",
     "output_type": "stream",
     "text": [
      "th =  0.010000000000000009 C =  0.9993420768964267\n",
      "th =  0.16707963267948966 C =  0.9842502600242576\n",
      "th =  0.3241592653589793 C =  0.9452589481745232\n",
      "th =  0.481238898038469 C =  0.8842241504134349\n",
      "th =  0.6383185307179586 C =  0.7969195693436637\n",
      "th =  0.7953981633974483 C =  0.6920924725596138\n",
      "th =  0.9524777960769379 C =  0.5805806611614834\n",
      "th =  1.1095574287564276 C =  0.44111839823110854\n",
      "th =  1.2666370614359173 C =  0.2957453168381053\n",
      "th =  1.423716694115407 C =  0.1444410110548757\n",
      "th =  1.5807963267948966 C =  0.0073678158123325005\n"
     ]
    }
   ],
   "source": [
    "#device = provider.get_backend('ibmq_manila')\n",
    "import math\n",
    "qr = QuantumRegister(2); \n",
    "qc = qiskit.QuantumCircuit(qr);\n",
    "\n",
    "from qiskit.ignis.verification.tomography import state_tomography_circuits, StateTomographyFitter\n",
    "\n",
    "#qst_qc1 = state_tomography_circuits(qc, [qr[0],qr[1]]);\n",
    "#job_sim1 = qiskit.execute(qst_qc1, backend = simulator, shots = 8192)\n",
    "\n",
    "\n",
    "th_min = 0; th_max = math.pi/2; N = 10; dth = (th_max-th_min)/N; th = -dth + 10**-2; thv = np.zeros(N+1)\n",
    "\n",
    "Cv = np.zeros(N+1)\n",
    "\n",
    "for j in range(0, N+1):\n",
    "    qr = QuantumRegister(2)\n",
    "    qc = qiskit.QuantumCircuit(qr)\n",
    "    th += dth\n",
    "    thv[j] = th \n",
    "    \n",
    "    # State preparation\n",
    "    \n",
    "    Psi = [0.5*(math.cos(th/2) + math.sin(th/2)),0.5*( math.cos(th/2) - math.sin(th/2)),0.5*(math.cos(th/2) - math.sin(th/2)), 0.5*(math.cos(th/2) + math.sin(th/2))]\n",
    "    qc.initialize(Psi, [qr[1],qr[0]])\n",
    "    \n",
    "    \n",
    "    #th1 = th; # angles for the state preparation\n",
    "    #qc.h(qr[0])\n",
    "    #qc.h(qr[1])\n",
    "\n",
    "    #qc.cry(th1, qr[0], qr[1]);\n",
    "    \n",
    "    #qc.x(qr[1])\n",
    "    #qc.cry(-th1, qr[0], qr[1]);\n",
    "    #qc.x(qr[1])\n",
    "    \n",
    "\n",
    "    # qstate tomography for rho\n",
    "    qst_qc1 = state_tomography_circuits(qc, [qr[0],qr[1]]); # defines the qcircuit to make qst\n",
    "    #qst_qc1 = state_tomography_circuits(qc, qr[1]);\n",
    "    # simulator\n",
    "    job_sim1 = qiskit.execute(qst_qc1, Aer.get_backend('qasm_simulator'), shots = 8192); # executes the qst\n",
    "    qstf_qc_sim1 = StateTomographyFitter(job_sim1.result(), qst_qc1); # fits the data to extract rho\n",
    "    rho10_prep_sim = qstf_qc_sim1.fit(method = 'lstsq');\n",
    "    rho0_prep_sim = pTraceR_num(2, 2, rho10_prep_sim)\n",
    "    \n",
    "    Cv[j] = coh_l1(rho0_prep_sim) \n",
    "    print('th = ', thv[j], 'C = ', Cv[j])\n",
    "        \n",
    "\n",
    "    \n",
    "    \n",
    "    \n",
    "\n",
    "    "
   ]
  },
  {
   "cell_type": "code",
   "execution_count": 18,
   "metadata": {},
   "outputs": [
    {
     "name": "stdout",
     "output_type": "stream",
     "text": [
      "635abdc66756f965c9ef4a47\n",
      "Job Status: job has successfully run\n",
      "th =  0.010000000000000009 C =  0.9581024769331484\n",
      "635ac08f0f4ec7aa97650478\n",
      "Job Status: job has successfully run\n",
      "th =  0.16707963267948966 C =  0.9295969185155217\n",
      "635ac38fec45f97dfc8784e4\n",
      "Job Status: job has successfully run\n",
      "th =  0.3241592653589793 C =  0.89446149579836\n",
      "635ac6197a93eed502e25262\n",
      "Job Status: job has successfully run\n",
      "th =  0.481238898038469 C =  0.8375596113348722\n",
      "635ac8933bceadd9ab5eb13d\n",
      "Job Status: job has successfully run\n",
      "th =  0.6383185307179586 C =  0.7314688130578234\n",
      "635acaa4ec45f99e918784f8\n",
      "Job Status: job has successfully run\n",
      "th =  0.7953981633974483 C =  0.6388114283160498\n",
      "635accfa1c0b4a2ab0cae120\n",
      "Job Status: job has successfully run\n",
      "th =  0.9524777960769379 C =  0.5332380279825811\n",
      "635acf99c585ea74f97aac26\n",
      "Job Status: job has successfully run\n",
      "th =  1.1095574287564276 C =  0.3821025174135032\n",
      "635ad2f8c585ea0e197aac2c\n",
      "Job Status: job has successfully run\n",
      "th =  1.2666370614359173 C =  0.2547125116856033\n",
      "635ad8637a93ee295ee25295\n",
      "Job Status: job has successfully run\n",
      "th =  1.423716694115407 C =  0.11206633247479991\n",
      "635adb55227bc1ff297e66e1\n",
      "Job Status: job has successfully run\n",
      "th =  1.5807963267948966 C =  0.04528799333933334\n"
     ]
    }
   ],
   "source": [
    "device = provider.get_backend('ibmq_belem')\n",
    "\n",
    "qr = QuantumRegister(2); \n",
    "qc = qiskit.QuantumCircuit(qr);\n",
    "\n",
    "from qiskit.ignis.verification.tomography import state_tomography_circuits, StateTomographyFitter\n",
    "\n",
    "#qst_qc1 = state_tomography_circuits(qc, [qr[0],qr[1]]);\n",
    "#job_sim1 = qiskit.execute(qst_qc1, backend = simulator, shots = 8192)\n",
    "\n",
    "\n",
    "th_min = 0; th_max = math.pi/2; N = 10; dth = (th_max-th_min)/N; th = -dth + 10**-2; thv = np.zeros(N+1)\n",
    "\n",
    "Cve = np.zeros(N+1)\n",
    "\n",
    "for j in range(0, N+1):\n",
    "    qr = QuantumRegister(2)\n",
    "    qc = qiskit.QuantumCircuit(qr)\n",
    "    th += dth\n",
    "    thv[j] = th \n",
    "    \n",
    "    # State preparation\n",
    "    Psi = [0.5*(math.cos(th/2) + math.sin(th/2)),0.5*( math.cos(th/2) - math.sin(th/2)),0.5*(math.cos(th/2) - math.sin(th/2)), 0.5*(math.cos(th/2) + math.sin(th/2))]\n",
    "    qc.initialize(Psi, [qr[1],qr[0]])\n",
    "    \n",
    "    \n",
    "    #th1 = th; # angles for the state preparation\n",
    "    #qc.h(qr[0])\n",
    "    #qc.h(qr[1])\n",
    "\n",
    "    #qc.cry(th1, qr[0], qr[1]);\n",
    "    \n",
    "    #qc.x(qr[1])\n",
    "    #qc.cry(-th1, qr[0], qr[1]);\n",
    "    #qc.x(qr[1])\n",
    "    \n",
    "\n",
    "    qst_qc = state_tomography_circuits(qc, [qr[0],qr[1]]); # defines the qcircuit to make qst\n",
    "    \n",
    "    job_dev1 = qiskit.execute(qst_qc, backend = device, shots = 8192); # executes the qst\n",
    "    print(job_dev1.job_id());\n",
    "    job_monitor(job_dev1);\n",
    "    job_dev_mit1 = meas_filter.apply(job_dev1.result(), method='least_squares'); # error mitigation\n",
    "    qstf_qc_dev1 = StateTomographyFitter(job_dev_mit1, qst_qc); # fits the data to extract rho\n",
    "    rho10_prepE = qstf_qc_dev1.fit(method = 'lstsq');\n",
    "    rho0_prepE = pTraceR_num(2, 2, rho10_prepE)\n",
    "    \n",
    "    Cve[j] = coh_l1(rho0_prepE) \n",
    "    print('th = ', thv[j], 'C = ', Cve[j])\n",
    "    \n",
    "\n",
    "\n",
    "    "
   ]
  },
  {
   "cell_type": "code",
   "execution_count": 19,
   "metadata": {},
   "outputs": [
    {
     "data": {
      "image/png": "[encoded data removed]",
      "text/plain": [
       "<Figure size 700x600 with 1 Axes>"
      ]
     },
     "metadata": {
      "needs_background": "light"
     },
     "output_type": "display_data"
    }
   ],
   "source": [
    "import matplotlib\n",
    "import numpy as np\n",
    "\n",
    "plt.style.use(['science', 'notebook', 'grid'])    \n",
    "x = np.arange(0, np.pi/2, 0.001)\n",
    "f = np.cos(x)\n",
    "\n",
    "\n",
    "matplotlib.rcParams.update({'font.size':10}); plt.figure(figsize = (7,6), dpi = 100)\n",
    "plt.plot(x, f, '-',color = \"green\", label = r'$C_{l_1}(\\rho_{\\Lambda s}^{the})$')\n",
    "plt.plot(thv, Cv, 'x',color = \"darkblue\", label = r'$C_{l_1}(\\rho_{\\Lambda s}^{sim})$')\n",
    "plt.plot(thv, Cve, '^',color = \"black\", label = r'$C_{l_1}(\\rho_{\\Lambda s}^{exp})$')\n",
    "\n",
    "plt.xlabel(r'$\\theta$'); \n",
    "    #plt.legend(loc = 'center right', bbox_to_anchor=(th_max-0.05, 0.5))\n",
    "plt.legend(loc = 'best')\n",
    "    #plt.savefig(path+'psi_plot1.png', format = 'png', dpi = 200)\n",
    "plt.savefig('wigrot.pdf', format='pdf',dpi = 1200, bbox_inches='tight')\n",
    "\n",
    "plt.show()"
   ]
  }
 ],
 "metadata": {
  "kernelspec": {
   "display_name": "Python 3",
   "language": "python",
   "name": "python3"
  },
  "language_info": {
   "codemirror_mode": {
    "name": "ipython",
    "version": 3
   },
   "file_extension": ".py",
   "mimetype": "text/x-python",
   "name": "python",
   "nbconvert_exporter": "python",
   "pygments_lexer": "ipython3",
   "version": "3.7.6"
  }
 },
 "nbformat": 4,
 "nbformat_minor": 4
}
