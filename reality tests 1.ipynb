{
 "cells": [
  {
   "cell_type": "code",
   "execution_count": 1,
   "metadata": {},
   "outputs": [],
   "source": [
    "%run init.ipynb\n",
    "%run entropy.ipynb\n",
    "%run ptr.ipynb\n",
    "%run jupyterQ.ipynb\n",
    "\n",
    "import qiskit\n",
    "\n",
    "from qiskit import *"
   ]
  },
  {
   "cell_type": "code",
   "execution_count": 2,
   "metadata": {},
   "outputs": [],
   "source": [
    "from qiskit import IBMQ"
   ]
  },
  {
   "cell_type": "code",
   "execution_count": 3,
   "metadata": {},
   "outputs": [],
   "source": [
    "IBMQ.save_account('407eee087e66afb971221353c2214710f90034665067ef91fefb09e98c6c99d94ff4f4f1c14131a196c09a5d24a4368e1aaa03b0f3d99578f0b8f47071995da6', overwrite = True)"
   ]
  },
  {
   "cell_type": "code",
   "execution_count": 5,
   "metadata": {},
   "outputs": [
    {
     "data": {
      "text/plain": [
       "<AccountProvider for IBMQ(hub='ibm-q', group='open', project='main')>"
      ]
     },
     "execution_count": 5,
     "metadata": {},
     "output_type": "execute_result"
    }
   ],
   "source": [
    "qiskit.IBMQ.load_account()"
   ]
  },
  {
   "cell_type": "code",
   "execution_count": 6,
   "metadata": {},
   "outputs": [],
   "source": [
    "provider = qiskit.IBMQ.get_provider(hub='ibm-q', group='open', project='main')"
   ]
  },
  {
   "cell_type": "code",
   "execution_count": 7,
   "metadata": {},
   "outputs": [],
   "source": [
    "from qiskit.tools.monitor import backend_overview, backend_monitor"
   ]
  },
  {
   "cell_type": "code",
   "execution_count": 8,
   "metadata": {},
   "outputs": [
    {
     "name": "stdout",
     "output_type": "stream",
     "text": [
      "ibmq_manila                  ibmq_quito                   ibmq_belem\n",
      "-----------                  ----------                   ----------\n",
      "Num. Qubits:  5              Num. Qubits:  5              Num. Qubits:  5\n",
      "Pending Jobs: 41             Pending Jobs: 23             Pending Jobs: 6\n",
      "Least busy:   False          Least busy:   False          Least busy:   False\n",
      "Operational:  True           Operational:  True           Operational:  True\n",
      "Avg. T1:      165.7          Avg. T1:      76.0           Avg. T1:      91.6\n",
      "Avg. T2:      54.1           Avg. T2:      103.4          Avg. T2:      97.1\n",
      "\n",
      "\n",
      "\n",
      "ibmq_lima                    ibmq_bogota                  ibmq_santiago\n",
      "---------                    -----------                  -------------\n",
      "Num. Qubits:  5              Num. Qubits:  5              Num. Qubits:  5\n",
      "Pending Jobs: 6              Pending Jobs: 45             Pending Jobs: 2093\n",
      "Least busy:   False          Least busy:   False          Least busy:   False\n",
      "Operational:  True           Operational:  True           Operational:  True\n",
      "Avg. T1:      70.1           Avg. T1:      91.4           Avg. T1:      85.8\n",
      "Avg. T2:      96.1           Avg. T2:      135.1          Avg. T2:      102.6\n",
      "\n",
      "\n",
      "\n",
      "ibmq_armonk\n",
      "-----------\n",
      "Num. Qubits:  1\n",
      "Pending Jobs: 2\n",
      "Least busy:   True\n",
      "Operational:  True\n",
      "Avg. T1:      184.1\n",
      "Avg. T2:      285.8\n",
      "\n",
      "\n",
      "\n"
     ]
    }
   ],
   "source": [
    "backend_overview()"
   ]
  },
  {
   "cell_type": "code",
   "execution_count": 9,
   "metadata": {},
   "outputs": [
    {
     "name": "stdout",
     "output_type": "stream",
     "text": [
      "61b0cc85bd9cd2490856bcfe\n",
      "Job Status: job has successfully run\n"
     ]
    }
   ],
   "source": [
    "device = provider.get_backend('ibmq_belem')\n",
    "\n",
    "from qiskit.tools.monitor import job_monitor\n",
    "qr = QuantumRegister(2)\n",
    "qc = qiskit.QuantumCircuit(qr); \n",
    "qc_cal = qiskit.QuantumCircuit(qr)\n",
    "from qiskit.ignis.mitigation.measurement import (complete_meas_cal, CompleteMeasFitter)\n",
    "cal_circuits, state_labels = complete_meas_cal(qr = qc.qregs[0], circlabel = 'mmc')\n",
    "cal_job = execute(cal_circuits, backend = device, shots = 8192, optimization_level = 0)\n",
    "print(cal_job.job_id())\n",
    "job_monitor(cal_job)\n",
    "cal_results = cal_job.result()\n",
    "meas_fitter = CompleteMeasFitter(cal_results, state_labels)\n",
    "meas_filter = meas_fitter.filter"
   ]
  },
  {
   "cell_type": "code",
   "execution_count": 12,
   "metadata": {},
   "outputs": [
    {
     "name": "stdout",
     "output_type": "stream",
     "text": [
      "ibmq_belem\n",
      "==========\n",
      "Configuration\n",
      "-------------\n",
      "    n_qubits: 5\n",
      "    operational: True\n",
      "    status_msg: active\n",
      "    pending_jobs: 18\n",
      "    backend_version: 1.0.29\n",
      "    basis_gates: ['id', 'rz', 'sx', 'x', 'cx', 'reset']\n",
      "    local: False\n",
      "    simulator: False\n",
      "    n_uchannels: 8\n",
      "    supported_features: ['q', 'o', 'b', 'j']\n",
      "    pulse_num_channels: 9\n",
      "    meas_map: [[0, 1, 2, 3, 4]]\n",
      "    measure_esp_enabled: False\n",
      "    description: 5 qubit device Belem\n",
      "    qubit_channel_mapping: [['m0', 'u0', 'u1', 'd0'], ['d1', 'm1', 'u4', 'u1', 'u5', 'u3', 'u0', 'u2'], ['m2', 'd2', 'u4', 'u2'], ['u6', 'u5', 'u3', 'd3', 'm3', 'u7'], ['u6', 'd4', 'm4', 'u7']]\n",
      "    discriminators: ['linear_discriminator', 'hw_centroid', 'quadratic_discriminator']\n",
      "    u_channel_lo: [[{'q': 1, 'scale': (1+0j)}], [{'q': 0, 'scale': (1+0j)}], [{'q': 2, 'scale': (1+0j)}], [{'q': 3, 'scale': (1+0j)}], [{'q': 1, 'scale': (1+0j)}], [{'q': 1, 'scale': (1+0j)}], [{'q': 4, 'scale': (1+0j)}], [{'q': 3, 'scale': (1+0j)}]]\n",
      "    memory: True\n",
      "    allow_object_storage: True\n",
      "    backend_name: ibmq_belem\n",
      "    uchannels_enabled: True\n",
      "    processor_type: {'family': 'Falcon', 'revision': 4, 'segment': 'T'}\n",
      "    qubit_lo_range: [[4.590197201361103, 5.590197201361103], [4.7455663394325365, 5.7455663394325365], [4.861497230261387, 5.861497230261387], [4.670378466519417, 5.670378466519417], [4.758454259070307, 5.758454259070307]]\n",
      "    hamiltonian: {'description': 'Qubits are modeled as Duffing oscillators. In this case, the system includes higher energy states, i.e. not just |0> and |1>. The Pauli operators are generalized via the following set of transformations:\\n\\n$(\\\\mathbb{I}-\\\\sigma_{i}^z)/2 \\\\rightarrow O_i \\\\equiv b^\\\\dagger_{i} b_{i}$,\\n\\n$\\\\sigma_{+} \\\\rightarrow b^\\\\dagger$,\\n\\n$\\\\sigma_{-} \\\\rightarrow b$,\\n\\n$\\\\sigma_{i}^X \\\\rightarrow b^\\\\dagger_{i} + b_{i}$.\\n\\nQubits are coupled through resonator buses. The provided Hamiltonian has been projected into the zero excitation subspace of the resonator buses leading to an effective qubit-qubit flip-flop interaction. The qubit resonance frequencies in the Hamiltonian are the cavity dressed frequencies and not exactly what is returned by the backend defaults, which also includes the dressing due to the qubit-qubit interactions.\\n\\nQuantities are returned in angular frequencies, with units 2*pi*GHz.\\n\\nWARNING: Currently not all system Hamiltonian information is available to the public, missing values have been replaced with 0.\\n', 'h_latex': '\\\\begin{align} \\\\mathcal{H}/\\\\hbar = & \\\\sum_{i=0}^{4}\\\\left(\\\\frac{\\\\omega_{q,i}}{2}(\\\\mathbb{I}-\\\\sigma_i^{z})+\\\\frac{\\\\Delta_{i}}{2}(O_i^2-O_i)+\\\\Omega_{d,i}D_i(t)\\\\sigma_i^{X}\\\\right) \\\\\\\\ & + J_{0,1}(\\\\sigma_{0}^{+}\\\\sigma_{1}^{-}+\\\\sigma_{0}^{-}\\\\sigma_{1}^{+}) + J_{1,2}(\\\\sigma_{1}^{+}\\\\sigma_{2}^{-}+\\\\sigma_{1}^{-}\\\\sigma_{2}^{+}) + J_{1,3}(\\\\sigma_{1}^{+}\\\\sigma_{3}^{-}+\\\\sigma_{1}^{-}\\\\sigma_{3}^{+}) + J_{3,4}(\\\\sigma_{3}^{+}\\\\sigma_{4}^{-}+\\\\sigma_{3}^{-}\\\\sigma_{4}^{+}) \\\\\\\\ & + \\\\Omega_{d,0}(U_{0}^{(0,1)}(t))\\\\sigma_{0}^{X} + \\\\Omega_{d,1}(U_{1}^{(1,0)}(t)+U_{3}^{(1,3)}(t)+U_{2}^{(1,2)}(t))\\\\sigma_{1}^{X} \\\\\\\\ & + \\\\Omega_{d,2}(U_{4}^{(2,1)}(t))\\\\sigma_{2}^{X} + \\\\Omega_{d,3}(U_{6}^{(3,4)}(t)+U_{5}^{(3,1)}(t))\\\\sigma_{3}^{X} \\\\\\\\ & + \\\\Omega_{d,4}(U_{7}^{(4,3)}(t))\\\\sigma_{4}^{X} \\\\\\\\ \\\\end{align}', 'h_str': ['_SUM[i,0,4,wq{i}/2*(I{i}-Z{i})]', '_SUM[i,0,4,delta{i}/2*O{i}*O{i}]', '_SUM[i,0,4,-delta{i}/2*O{i}]', '_SUM[i,0,4,omegad{i}*X{i}||D{i}]', 'jq0q1*Sp0*Sm1', 'jq0q1*Sm0*Sp1', 'jq1q2*Sp1*Sm2', 'jq1q2*Sm1*Sp2', 'jq1q3*Sp1*Sm3', 'jq1q3*Sm1*Sp3', 'jq3q4*Sp3*Sm4', 'jq3q4*Sm3*Sp4', 'omegad1*X0||U0', 'omegad0*X1||U1', 'omegad3*X1||U3', 'omegad2*X1||U2', 'omegad1*X2||U4', 'omegad4*X3||U6', 'omegad1*X3||U5', 'omegad3*X4||U7'], 'osc': {}, 'qub': {'0': 3, '1': 3, '2': 3, '3': 3, '4': 3}, 'vars': {'delta0': -2.1119231275656283, 'delta1': -1.989081364755034, 'delta2': -2.0773937776320905, 'delta3': -2.096945401946966, 'delta4': -2.0819029355928373, 'jq0q1': 0.011772262300160973, 'jq1q2': 0.012605700949390706, 'jq1q3': 0.012591488659137172, 'jq3q4': 0.01051661912410011, 'omegad0': 0.7968522799517097, 'omegad1': 0.7987784789135615, 'omegad2': 1.9820969479496697, 'omegad3': 0.7776565240355277, 'omegad4': 0.6045189978911649, 'wq0': 31.982652266238734, 'wq1': 32.95886535175832, 'wq2': 33.687280621662396, 'wq3': 32.48644601339252, 'wq4': 33.03984253906647}}\n",
      "    quantum_volume: 16\n",
      "    channels: {'acquire0': {'operates': {'qubits': [0]}, 'purpose': 'acquire', 'type': 'acquire'}, 'acquire1': {'operates': {'qubits': [1]}, 'purpose': 'acquire', 'type': 'acquire'}, 'acquire2': {'operates': {'qubits': [2]}, 'purpose': 'acquire', 'type': 'acquire'}, 'acquire3': {'operates': {'qubits': [3]}, 'purpose': 'acquire', 'type': 'acquire'}, 'acquire4': {'operates': {'qubits': [4]}, 'purpose': 'acquire', 'type': 'acquire'}, 'd0': {'operates': {'qubits': [0]}, 'purpose': 'drive', 'type': 'drive'}, 'd1': {'operates': {'qubits': [1]}, 'purpose': 'drive', 'type': 'drive'}, 'd2': {'operates': {'qubits': [2]}, 'purpose': 'drive', 'type': 'drive'}, 'd3': {'operates': {'qubits': [3]}, 'purpose': 'drive', 'type': 'drive'}, 'd4': {'operates': {'qubits': [4]}, 'purpose': 'drive', 'type': 'drive'}, 'm0': {'operates': {'qubits': [0]}, 'purpose': 'measure', 'type': 'measure'}, 'm1': {'operates': {'qubits': [1]}, 'purpose': 'measure', 'type': 'measure'}, 'm2': {'operates': {'qubits': [2]}, 'purpose': 'measure', 'type': 'measure'}, 'm3': {'operates': {'qubits': [3]}, 'purpose': 'measure', 'type': 'measure'}, 'm4': {'operates': {'qubits': [4]}, 'purpose': 'measure', 'type': 'measure'}, 'u0': {'operates': {'qubits': [0, 1]}, 'purpose': 'cross-resonance', 'type': 'control'}, 'u1': {'operates': {'qubits': [1, 0]}, 'purpose': 'cross-resonance', 'type': 'control'}, 'u2': {'operates': {'qubits': [1, 2]}, 'purpose': 'cross-resonance', 'type': 'control'}, 'u3': {'operates': {'qubits': [1, 3]}, 'purpose': 'cross-resonance', 'type': 'control'}, 'u4': {'operates': {'qubits': [2, 1]}, 'purpose': 'cross-resonance', 'type': 'control'}, 'u5': {'operates': {'qubits': [3, 1]}, 'purpose': 'cross-resonance', 'type': 'control'}, 'u6': {'operates': {'qubits': [3, 4]}, 'purpose': 'cross-resonance', 'type': 'control'}, 'u7': {'operates': {'qubits': [4, 3]}, 'purpose': 'cross-resonance', 'type': 'control'}}\n",
      "    open_pulse: False\n",
      "    acquisition_latency: []\n",
      "    max_shots: 20000\n",
      "    default_rep_delay: 250.0\n",
      "    supported_instructions: ['shiftf', 'setf', 'acquire', 'play', 'sx', 'delay', 'id', 'reset', 'cx', 'x', 'u1', 'measure', 'u3', 'rz', 'u2']\n",
      "    sample_name: family: Falcon, revision: 4, segment: T\n",
      "    dtm: 0.2222222222222222\n",
      "    rep_times: [1000.0]\n",
      "    max_experiments: 100\n",
      "    credits_required: True\n",
      "    conditional_latency: []\n",
      "    rep_delay_range: [0.0, 500.0]\n",
      "    online_date: 2021-01-08 05:00:00+00:00\n",
      "    parametric_pulses: ['gaussian', 'gaussian_square', 'drag', 'constant']\n",
      "    allow_q_object: True\n",
      "    coupling_map: [[0, 1], [1, 0], [1, 2], [1, 3], [2, 1], [3, 1], [3, 4], [4, 3]]\n",
      "    pulse_num_qubits: 3\n",
      "    meas_lo_range: [[6.801661824000001, 7.801661824000001], [6.8934333720000005, 7.8934333720000005], [6.860214726000001, 7.860214726000001], [6.8033823270000005, 7.8033823270000005], [6.926310916, 7.926310916]]\n",
      "    input_allowed: ['job', 'runtime']\n",
      "    clops: 2454\n",
      "    dt: 0.2222222222222222\n",
      "    conditional: False\n",
      "    multi_meas_enabled: True\n",
      "    timing_constraints: {'acquire_alignment': 16, 'granularity': 16, 'min_length': 64, 'pulse_alignment': 1}\n",
      "    url: None\n",
      "    dynamic_reprate_enabled: True\n",
      "    meas_kernels: ['hw_boxcar']\n",
      "    meas_levels: [1, 2]\n",
      "    n_registers: 1\n",
      "\n",
      "Qubits [Name / Freq / T1 / T2 / RZ err / SX err / X err / Readout err]\n",
      "----------------------------------------------------------------------\n",
      "    Q0 / 5.09020 GHz / 74.78266 us / 14.09074 us / 0.00000 / 0.00049 / 0.00049 / 0.05140 \n",
      "    Q1 / 5.24557 GHz / 102.54487 us / 91.70748 us / 0.00000 / 0.00050 / 0.00050 / 0.01650 \n",
      "    Q2 / 5.36150 GHz / 87.70680 us / 66.76641 us / 0.00000 / 0.00025 / 0.00025 / 0.01840 \n",
      "    Q3 / 5.17038 GHz / 101.43278 us / 151.68366 us / 0.00000 / 0.00026 / 0.00026 / 0.01470 \n",
      "    Q4 / 5.25845 GHz / 91.38727 us / 161.30804 us / 0.00000 / 0.00046 / 0.00046 / 0.01740 \n",
      "\n",
      "Multi-Qubit Gates [Name / Type / Gate Error]\n",
      "--------------------------------------------\n",
      "    cx4_3 / cx / 0.01023\n",
      "    cx3_4 / cx / 0.01023\n",
      "    cx3_1 / cx / 0.00959\n",
      "    cx1_3 / cx / 0.00959\n",
      "    cx2_1 / cx / 0.01016\n",
      "    cx1_2 / cx / 0.01016\n",
      "    cx1_0 / cx / 0.02063\n",
      "    cx0_1 / cx / 0.02063\n"
     ]
    }
   ],
   "source": [
    "backend_monitor(device)"
   ]
  },
  {
   "cell_type": "code",
   "execution_count": 11,
   "metadata": {},
   "outputs": [
    {
     "name": "stdout",
     "output_type": "stream",
     "text": [
      "61b0d9b7fd94263157c70b66\n",
      "Job Status: job has successfully run\n",
      "61b0da2dfd94265b49c70b6b\n",
      "Job Status: job has successfully run\n"
     ]
    }
   ],
   "source": [
    "####first round\n",
    "\n",
    "qr = QuantumRegister(2); \n",
    "qc = qiskit.QuantumCircuit(qr);\n",
    "\n",
    "from qiskit.ignis.verification.tomography import state_tomography_circuits, StateTomographyFitter\n",
    "\n",
    "\n",
    "qc.h(qr[0])\n",
    "\n",
    "qst_qc = state_tomography_circuits(qc, [qr[0],qr[1]]) # defines the qcircuit to make qst\n",
    "job_dev = qiskit.execute(qst_qc, backend = device, shots = 8192); # executes the qst\n",
    "print(job_dev.job_id());\n",
    "job_monitor(job_dev);\n",
    "job_dev_mit = meas_filter.apply(job_dev.result(), method='least_squares'); # error mitigation\n",
    "qstf_qc_dev = StateTomographyFitter(job_dev_mit, qst_qc); # fits the data to extract rho\n",
    "rho10_measE = qstf_qc_dev.fit(method = 'lstsq');\n",
    "rho0_measE = pTraceL_num(2, 2, rho10_measE)\n",
    "\n",
    "Se = von_neumann_num(rho0_measE)\n",
    "\n",
    "\n",
    "qc.u(math.pi/2, math.pi, -math.pi, qr[0])\n",
    "qc.cx(qr[0],qr[1]);\n",
    "qc.u(math.pi/2, 0, 0, qr[0])\n",
    "   \n",
    "qst_qc3 = state_tomography_circuits(qc, [qr[0],qr[1]]) # defines the qcircuit to make qst\n",
    "job_dev3 = qiskit.execute(qst_qc3, backend = device, shots = 8192); # executes the qst\n",
    "print(job_dev3.job_id());\n",
    "job_monitor(job_dev3);    \n",
    "job_dev_mit3 = meas_filter.apply(job_dev3.result(), method='least_squares'); # error mitigation\n",
    "qstf_qc_dev3 = StateTomographyFitter(job_dev_mit3, qst_qc3); # fits the data to extract rho\n",
    "rho10_meas3 = qstf_qc_dev3.fit(method='lstsq'); \n",
    "rho0_meas3 = pTraceL_num(2, 2, rho10_meas3); #print('Pi(rho) = ', rho0_meas)\n",
    "\n",
    "Je = von_neumann_num(rho0_meas3)\n",
    "\n"
   ]
  },
  {
   "cell_type": "code",
   "execution_count": 10,
   "metadata": {},
   "outputs": [
    {
     "name": "stderr",
     "output_type": "stream",
     "text": [
      "/home/marcos/anaconda3/lib/python3.7/site-packages/qiskit/ignis/verification/tomography/basis/circuits.py:468: DeprecationWarning: The QuantumCircuit.__iadd__() method is being deprecated. Use the compose() (potentially with the inplace=True argument) and tensor() methods which are more flexible w.r.t circuit register compatibility.\n",
      "  prep += circuit\n",
      "/home/marcos/anaconda3/lib/python3.7/site-packages/qiskit/circuit/quantumcircuit.py:942: DeprecationWarning: The QuantumCircuit.extend() method is being deprecated. Use the compose() (potentially with the inplace=True argument) and tensor() methods which are more flexible w.r.t circuit register compatibility.\n",
      "  return self.extend(rhs)\n",
      "/home/marcos/anaconda3/lib/python3.7/site-packages/qiskit/ignis/verification/tomography/basis/circuits.py:478: DeprecationWarning: The QuantumCircuit.__add__() method is being deprecated.Use the compose() method which is more flexible w.r.t circuit register compatibility.\n",
      "  circ = prep + meas\n",
      "/home/marcos/anaconda3/lib/python3.7/site-packages/qiskit/circuit/quantumcircuit.py:933: DeprecationWarning: The QuantumCircuit.combine() method is being deprecated. Use the compose() method which is more flexible w.r.t circuit register compatibility.\n",
      "  return self.combine(rhs)\n"
     ]
    },
    {
     "name": "stdout",
     "output_type": "stream",
     "text": [
      "61b0cdd6ac813a0d4afabb90\n",
      "Job Status: job has successfully run\n",
      "61b0cfc9ac813af35ffabb97\n",
      "Job Status: job has successfully run\n",
      "61b0d023bd9cd25b7856bd0b\n",
      "Job Status: job has successfully run\n",
      "61b0d07caad5f32e889dcd4b\n",
      "Job Status: job has successfully run\n",
      "61b0d0d9f15b0317369a31ac\n",
      "Job Status: job has successfully run\n",
      "61b0d150fd9426652dc70b39\n",
      "Job Status: job has successfully run\n",
      "61b0d1bebf8803176130a786\n",
      "Job Status: job has successfully run\n",
      "61b0d236ac813aae7cfabba5\n",
      "Job Status: job has successfully run\n",
      "61b0d2aebf88034c3d30a789\n",
      "Job Status: job has successfully run\n",
      "61b0d329ac813a2c88fabba9\n",
      "Job Status: job has successfully run\n",
      "61b0d3a7bf88038b1a30a790\n",
      "Job Status: job has successfully run\n",
      "61b0d4aaaad5f345ec9dcd60\n",
      "Job Status: job has successfully run\n",
      "61b0d587aad5f3798d9dcd68\n",
      "Job Status: job has successfully run\n",
      "61b0d609bd9cd29da456bd28\n",
      "Job Status: job has successfully run\n",
      "61b0d68adcbe2316e719524a\n",
      "Job Status: job has successfully run\n",
      "61b0d77dac813a7559fabbc1\n",
      "Job Status: job has successfully run\n",
      "61b0d83a2e6f4560599c8d71\n",
      "Job Status: job has successfully run\n",
      "61b0d8cf2e6f45cd7c9c8d76\n",
      "Job Status: job has successfully run\n"
     ]
    }
   ],
   "source": [
    "qr = QuantumRegister(3); \n",
    "qc = qiskit.QuantumCircuit(qr);\n",
    "\n",
    "from qiskit.ignis.verification.tomography import state_tomography_circuits, StateTomographyFitter\n",
    "\n",
    "\n",
    "th_min = 0; th_max = math.pi/2; N = 8; dth = (th_max-th_min)/N; th = -dth + 10**-1; thv = np.zeros(N+1)\n",
    "\n",
    "Ie = np.zeros(N+1)\n",
    "Ve = np.zeros(N+1)\n",
    "\n",
    "for j in range(0, N+1):\n",
    "    qr = QuantumRegister(5)\n",
    "    qc = qiskit.QuantumCircuit(qr)\n",
    "    th += dth\n",
    "    thv[j] = th \n",
    "    \n",
    "    # State preparation\n",
    "    th1 = th; ph1 = 0; lb1 = 0 # angles for the state preparation\n",
    "    \n",
    "    qc.h(qr[0])\n",
    "    \n",
    "    qc.u(th1, ph1, lb1, qr[1]); #print('prep = ',th1, ph1, lb1)\n",
    "    qc.cz(qr[0], qr[1]);\n",
    "      \n",
    "    #print('meas = ',th2, ph2, lb2)\n",
    "    # qstate tomography for Pi(rho)\n",
    "    \n",
    "    qst_qc1 = state_tomography_circuits(qc, [qr[0],qr[1]]) # defines the qcircuit to make qst\n",
    "    job_dev1 = qiskit.execute(qst_qc1, backend = device, shots = 8192); # executes the qst\n",
    "    print(job_dev1.job_id());\n",
    "    job_monitor(job_dev1);    \n",
    "    job_dev_mit1 = meas_filter.apply(job_dev1.result(), method='least_squares'); # error mitigation\n",
    "    qstf_qc_dev1 = StateTomographyFitter(job_dev_mit1, qst_qc1); # fits the data to extract rho\n",
    "    rho10_meas1 = qstf_qc_dev1.fit(method='lstsq'); \n",
    "    rho0_meas1 = pTraceL_num(2, 2, rho10_meas1); #print('Pi(rho) = ', rho0_meas)\n",
    "   \n",
    "    Ie[j] = von_neumann_num(rho0_meas1) # C with reference to sigma_x\n",
    "    \n",
    "    qc.u(math.pi/2, math.pi, -math.pi, qr[0])\n",
    "    qc.cx(qr[0],qr[2]);\n",
    "    qc.u(math.pi/2, 0, 0, qr[0])\n",
    "   \n",
    "    qst_qc2 = state_tomography_circuits(qc, [qr[0],qr[2]]) # defines the qcircuit to make qst\n",
    "    \n",
    "    job_dev2 = qiskit.execute(qst_qc2, backend = device, shots = 8192); # executes the qst\n",
    "    print(job_dev2.job_id());\n",
    "    job_monitor(job_dev2);    \n",
    "    job_dev_mit2 = meas_filter.apply(job_dev2.result(), method='least_squares'); # error mitigation\n",
    "    qstf_qc_dev2 = StateTomographyFitter(job_dev_mit2, qst_qc2); # fits the data to extract rho\n",
    "    rho10_meas2 = qstf_qc_dev2.fit(method='lstsq'); \n",
    "    rho0_meas2 = pTraceL_num(2, 2, rho10_meas2); #print('Pi(rho) = ', rho0_meas)\n",
    " \n",
    "    Ve[j] = von_neumann_num(rho0_meas2)\n",
    "    \n",
    "    "
   ]
  },
  {
   "cell_type": "code",
   "execution_count": 13,
   "metadata": {},
   "outputs": [],
   "source": [
    "Rx = Ie - Se\n",
    "Rxa = Je + Ie - Ve - Se"
   ]
  },
  {
   "cell_type": "code",
   "execution_count": 105,
   "metadata": {},
   "outputs": [
    {
     "data": {
      "text/plain": [
       "array([0.10160682, 0.13001628, 0.23671495, 0.32724622, 0.36770182,\n",
       "       0.44240504, 0.51961754, 0.63113951, 0.67425774, 0.61383952,\n",
       "       0.59663874])"
      ]
     },
     "execution_count": 105,
     "metadata": {},
     "output_type": "execute_result"
    }
   ],
   "source": [
    "Rx"
   ]
  },
  {
   "cell_type": "code",
   "execution_count": 23,
   "metadata": {},
   "outputs": [
    {
     "data": {
      "text/plain": [
       "array([0.010217  , 0.01629849, 0.0551252 , 0.10811766, 0.14012641,\n",
       "       0.21419164, 0.31788483, 0.48932569, 0.62362477, 0.60185824,\n",
       "       0.66785424])"
      ]
     },
     "execution_count": 23,
     "metadata": {},
     "output_type": "execute_result"
    }
   ],
   "source": [
    "Rxasq = np.zeros(N+1)\n",
    "\n",
    "for j in range(0, N+1):\n",
    "    Rxasq[j] += Rxa[j]*Rxa[j]\n"
   ]
  },
  {
   "cell_type": "code",
   "execution_count": 14,
   "metadata": {},
   "outputs": [
    {
     "name": "stdout",
     "output_type": "stream",
     "text": [
      "61b0e3b5a880feb9f8646af9\n",
      "Job Status: job has successfully run\n",
      "61b0e3f2bd9cd2f9a956bd7e\n",
      "Job Status: job has successfully run\n"
     ]
    }
   ],
   "source": [
    "# second round\n",
    "\n",
    "qr = QuantumRegister(2); \n",
    "qc = qiskit.QuantumCircuit(qr);\n",
    "\n",
    "from qiskit.ignis.verification.tomography import state_tomography_circuits, StateTomographyFitter\n",
    "\n",
    "\n",
    "qc.h(qr[0])\n",
    "\n",
    "qst_qc = state_tomography_circuits(qc, [qr[0],qr[1]]) # defines the qcircuit to make qst\n",
    "job_dev = qiskit.execute(qst_qc, backend = device, shots = 8192); # executes the qst\n",
    "print(job_dev.job_id());\n",
    "job_monitor(job_dev);\n",
    "job_dev_mit = meas_filter.apply(job_dev.result(), method='least_squares'); # error mitigation\n",
    "qstf_qc_dev = StateTomographyFitter(job_dev_mit, qst_qc); # fits the data to extract rho\n",
    "rho10_measE = qstf_qc_dev.fit(method = 'lstsq');\n",
    "rho0_measE = pTraceL_num(2, 2, rho10_measE)\n",
    "\n",
    "Se1 = von_neumann_num(rho0_measE)\n",
    "\n",
    "qc.u(math.pi/2, math.pi, -math.pi, qr[0])\n",
    "qc.cx(qr[0],qr[1]);\n",
    "qc.u(math.pi/2, 0, 0, qr[0])\n",
    "    \n",
    "qst_qc3 = state_tomography_circuits(qc, [qr[0],qr[1]]) # defines the qcircuit to make qst\n",
    "job_dev3 = qiskit.execute(qst_qc3, backend = device, shots = 8192); # executes the qst\n",
    "print(job_dev3.job_id());\n",
    "job_monitor(job_dev3);    \n",
    "job_dev_mit3 = meas_filter.apply(job_dev3.result(), method='least_squares'); # error mitigation\n",
    "qstf_qc_dev3 = StateTomographyFitter(job_dev_mit3, qst_qc3); # fits the data to extract rho\n",
    "rho10_meas3 = qstf_qc_dev3.fit(method='lstsq'); \n",
    "rho0_meas3 = pTraceL_num(2, 2, rho10_meas3); #print('Pi(rho) = ', rho0_meas)\n",
    "\n",
    "Je1 = von_neumann_num(rho0_meas3)\n"
   ]
  },
  {
   "cell_type": "code",
   "execution_count": 12,
   "metadata": {},
   "outputs": [
    {
     "name": "stdout",
     "output_type": "stream",
     "text": [
      "61b0dafbf15b032d5b9a31ea\n",
      "Job Status: job has successfully run\n",
      "61b0dc8fd73deab87d374660\n",
      "Job Status: job has successfully run\n",
      "61b0dd1bbf88036f1730a7c3\n",
      "Job Status: job has successfully run\n",
      "61b0dd9dac813ab254fabbe4\n",
      "Job Status: job has successfully run\n",
      "61b0ddf92e6f45b6eb9c8d97\n",
      "Job Status: job has successfully run\n",
      "61b0de51dcbe2335f519527f\n",
      "Job Status: job has successfully run\n",
      "61b0deacd73dea08e4374670\n",
      "Job Status: job has successfully run\n",
      "61b0df57bd9cd2074556bd62\n",
      "Job Status: job has successfully run\n",
      "61b0dfbadcbe237113195287\n",
      "Job Status: job has successfully run\n",
      "61b0e01ebd9cd2647656bd69\n",
      "Job Status: job has successfully run\n",
      "61b0e081bf88035b8e30a7d3\n",
      "Job Status: job has successfully run\n",
      "61b0e0dbd73dea610337467e\n",
      "Job Status: job has successfully run\n",
      "61b0e12cac813ad1d7fabbf9\n",
      "Job Status: job has successfully run\n",
      "61b0e17abd9cd2846956bd73\n",
      "Job Status: job has successfully run\n",
      "61b0e1cad73dea323e374687\n",
      "Job Status: job has successfully run\n",
      "61b0e224aad5f372de9dcdb3\n",
      "Job Status: job has successfully run\n",
      "61b0e276bd9cd24edb56bd78\n",
      "Job Status: job has successfully run\n",
      "61b0e2eeac813ade32fabc05\n",
      "Job Status: job has successfully run\n"
     ]
    }
   ],
   "source": [
    "qr = QuantumRegister(3); \n",
    "qc = qiskit.QuantumCircuit(qr);\n",
    "\n",
    "from qiskit.ignis.verification.tomography import state_tomography_circuits, StateTomographyFitter\n",
    "\n",
    "\n",
    "th_min = 0; th_max = math.pi/2; N = 8; dth = (th_max-th_min)/N; th = -dth + 10**-1; thv = np.zeros(N+1)\n",
    "\n",
    "Ie1 = np.zeros(N+1)\n",
    "Ve1 = np.zeros(N+1)\n",
    "\n",
    "for j in range(0, N+1):\n",
    "    qr = QuantumRegister(5)\n",
    "    qc = qiskit.QuantumCircuit(qr)\n",
    "    th += dth\n",
    "    thv[j] = th \n",
    "    \n",
    "    # State preparation\n",
    "    th1 = th; ph1 = 0; lb1 = 0 # angles for the state preparation\n",
    "    \n",
    "    qc.h(qr[0])\n",
    "    \n",
    "    qc.u(th1, ph1, lb1, qr[1]); #print('prep = ',th1, ph1, lb1)\n",
    "    qc.cz(qr[0], qr[1]);\n",
    "      \n",
    "    #print('meas = ',th2, ph2, lb2)\n",
    "    # qstate tomography for Pi(rho)\n",
    "    \n",
    "    qst_qc1 = state_tomography_circuits(qc, [qr[0],qr[1]]) # defines the qcircuit to make qst\n",
    "    job_dev1 = qiskit.execute(qst_qc1, backend = device, shots = 8192); # executes the qst\n",
    "    print(job_dev1.job_id());\n",
    "    job_monitor(job_dev1);    \n",
    "    job_dev_mit1 = meas_filter.apply(job_dev1.result(), method='least_squares'); # error mitigation\n",
    "    qstf_qc_dev1 = StateTomographyFitter(job_dev_mit1, qst_qc1); # fits the data to extract rho\n",
    "    rho10_meas1 = qstf_qc_dev1.fit(method='lstsq'); \n",
    "    rho0_meas1 = pTraceL_num(2, 2, rho10_meas1); #print('Pi(rho) = ', rho0_meas)\n",
    "   \n",
    "    Ie1[j] = von_neumann_num(rho0_meas1) # C with reference to sigma_x\n",
    "    \n",
    "    \n",
    "    qc.u(math.pi/2, math.pi, -math.pi, qr[0])\n",
    "    qc.cx(qr[0],qr[2]);\n",
    "    qc.u(math.pi/2, 0, 0, qr[0])\n",
    "   \n",
    "    qst_qc2 = state_tomography_circuits(qc, [qr[0],qr[2]]) # defines the qcircuit to make qst\n",
    "    \n",
    "    job_dev2 = qiskit.execute(qst_qc2, backend = device, shots = 8192); # executes the qst\n",
    "    print(job_dev2.job_id());\n",
    "    job_monitor(job_dev2);    \n",
    "    job_dev_mit2 = meas_filter.apply(job_dev2.result(), method='least_squares'); # error mitigation\n",
    "    qstf_qc_dev2 = StateTomographyFitter(job_dev_mit2, qst_qc2); # fits the data to extract rho\n",
    "    rho10_meas2 = qstf_qc_dev2.fit(method='lstsq'); \n",
    "    rho0_meas2 = pTraceL_num(2, 2, rho10_meas2); #print('Pi(rho) = ', rho0_meas)\n",
    " \n",
    "    Ve1[j] = von_neumann_num(rho0_meas2)\n",
    "    \n",
    "    "
   ]
  },
  {
   "cell_type": "code",
   "execution_count": 15,
   "metadata": {},
   "outputs": [],
   "source": [
    "Rx1 = Ie1 - Se1\n",
    "Rxa1 = Je1 + Ie1 - Ve1 - Se1"
   ]
  },
  {
   "cell_type": "code",
   "execution_count": 16,
   "metadata": {},
   "outputs": [
    {
     "data": {
      "text/plain": [
       "array([0.19220124, 0.26362274, 0.38075059, 0.55325599, 0.691768  ,\n",
       "       0.82433307, 0.92698206, 0.97461711, 0.98354515])"
      ]
     },
     "execution_count": 16,
     "metadata": {},
     "output_type": "execute_result"
    }
   ],
   "source": [
    "Rx"
   ]
  },
  {
   "cell_type": "code",
   "execution_count": 17,
   "metadata": {},
   "outputs": [
    {
     "data": {
      "text/plain": [
       "array([0.18166618, 0.24976486, 0.37014345, 0.53966615, 0.69086055,\n",
       "       0.81849902, 0.92378677, 0.97479034, 0.98028071])"
      ]
     },
     "execution_count": 17,
     "metadata": {},
     "output_type": "execute_result"
    }
   ],
   "source": [
    "Rx1"
   ]
  },
  {
   "cell_type": "code",
   "execution_count": 47,
   "metadata": {},
   "outputs": [
    {
     "data": {
      "text/plain": [
       "array([0.13473568, 0.17395395, 0.21898175, 0.31169146, 0.39244085,\n",
       "       0.48585333, 0.57337698, 0.66257514, 0.74579984, 0.819175  ,\n",
       "       0.88359934])"
      ]
     },
     "execution_count": 47,
     "metadata": {},
     "output_type": "execute_result"
    }
   ],
   "source": [
    "Rxa2"
   ]
  },
  {
   "cell_type": "code",
   "execution_count": 19,
   "metadata": {},
   "outputs": [
    {
     "name": "stdout",
     "output_type": "stream",
     "text": [
      "61b0ec8b0745b25bdb7a8a2e\n",
      "Job Status: job has successfully run\n",
      "61b0ecdbd73deade543746e3\n",
      "Job Status: job has successfully run\n"
     ]
    }
   ],
   "source": [
    "# third round\n",
    "qr = QuantumRegister(2); \n",
    "qc = qiskit.QuantumCircuit(qr);\n",
    "\n",
    "from qiskit.ignis.verification.tomography import state_tomography_circuits, StateTomographyFitter\n",
    "\n",
    "\n",
    "qc.h(qr[0])\n",
    "\n",
    "qst_qc = state_tomography_circuits(qc, [qr[0],qr[1]]) # defines the qcircuit to make qst\n",
    "job_dev = qiskit.execute(qst_qc, backend = device, shots = 8192); # executes the qst\n",
    "print(job_dev.job_id());\n",
    "job_monitor(job_dev);\n",
    "job_dev_mit = meas_filter.apply(job_dev.result(), method='least_squares'); # error mitigation\n",
    "qstf_qc_dev = StateTomographyFitter(job_dev_mit, qst_qc); # fits the data to extract rho\n",
    "rho10_measE = qstf_qc_dev.fit(method = 'lstsq');\n",
    "rho0_measE = pTraceL_num(2, 2, rho10_measE)\n",
    "\n",
    "Se2 = von_neumann_num(rho0_measE)\n",
    "\n",
    "\n",
    "qc.u(math.pi/2, math.pi, -math.pi, qr[0])\n",
    "qc.cx(qr[0],qr[1]);\n",
    "qc.u(math.pi/2, 0, 0, qr[0])\n",
    "    \n",
    "qst_qc3 = state_tomography_circuits(qc, [qr[0],qr[1]]) # defines the qcircuit to make qst\n",
    "job_dev3 = qiskit.execute(qst_qc3, backend = device, shots = 8192); # executes the qst\n",
    "print(job_dev3.job_id());\n",
    "job_monitor(job_dev3);    \n",
    "job_dev_mit3 = meas_filter.apply(job_dev3.result(), method='least_squares'); # error mitigation\n",
    "qstf_qc_dev3 = StateTomographyFitter(job_dev_mit3, qst_qc3); # fits the data to extract rho\n",
    "rho10_meas3 = qstf_qc_dev3.fit(method='lstsq'); \n",
    "rho0_meas3 = pTraceL_num(2, 2, rho10_meas3); #print('Pi(rho) = ', rho0_meas)\n",
    "\n",
    "Je2 = von_neumann_num(rho0_meas3)\n"
   ]
  },
  {
   "cell_type": "code",
   "execution_count": 18,
   "metadata": {},
   "outputs": [
    {
     "name": "stdout",
     "output_type": "stream",
     "text": [
      "61b0e5e42e6f4557b99c8dda\n",
      "Job Status: job has successfully run\n",
      "61b0e622f15b03f2df9a3241\n",
      "Job Status: job has successfully run\n",
      "61b0e672bf8803858730a809\n",
      "Job Status: job has successfully run\n",
      "61b0e6c3bf8803223a30a80c\n",
      "Job Status: job has successfully run\n",
      "61b0e711ac813a7537fabc41\n",
      "Job Status: job has successfully run\n",
      "61b0e762dcbe23159d1952de\n",
      "Job Status: job has successfully run\n",
      "61b0e7b3d73dea8b583746be\n",
      "Job Status: job has successfully run\n",
      "61b0e801dcbe2382e41952e1\n",
      "Job Status: job has successfully run\n",
      "61b0e85df15b039f069a3256\n",
      "Job Status: job has successfully run\n",
      "61b0e8abdcbe23631b1952e5\n",
      "Job Status: job has successfully run\n",
      "61b0e8fbf15b0366209a325e\n",
      "Job Status: job has successfully run\n",
      "61b0e9692775eb646753f0af\n",
      "Job Status: job has successfully run\n",
      "61b0e9baaad5f3d0079dce02\n",
      "Job Status: job has successfully run\n",
      "61b0ea092775ebc77b53f0b1\n",
      "Job Status: job has successfully run\n",
      "61b0ea632775eb1b2253f0b5\n",
      "Job Status: job has successfully run\n",
      "61b0eab4a880fefc28646b4a\n",
      "Job Status: job has successfully run\n",
      "61b0eb04bd9cd27ae756bddd\n",
      "Job Status: job has successfully run\n",
      "61b0eb532775eb53b453f0bc\n",
      "Job Status: job has successfully run\n"
     ]
    }
   ],
   "source": [
    "qr = QuantumRegister(3); \n",
    "qc = qiskit.QuantumCircuit(qr);\n",
    "\n",
    "from qiskit.ignis.verification.tomography import state_tomography_circuits, StateTomographyFitter\n",
    "\n",
    "\n",
    "th_min = 0; th_max = math.pi/2; N = 8; dth = (th_max-th_min)/N; th = -dth + 10**-1; thv = np.zeros(N+1)\n",
    "\n",
    "Ie2 = np.zeros(N+1)\n",
    "Ve2 = np.zeros(N+1)\n",
    "\n",
    "for j in range(0, N+1):\n",
    "    qr = QuantumRegister(5)\n",
    "    qc = qiskit.QuantumCircuit(qr)\n",
    "    th += dth\n",
    "    thv[j] = th \n",
    "    \n",
    "    # State preparation\n",
    "    th1 = th; ph1 = 0; lb1 = 0 # angles for the state preparation\n",
    "    \n",
    "    qc.h(qr[0])\n",
    "    \n",
    "    qc.u(th1, ph1, lb1, qr[1]); #print('prep = ',th1, ph1, lb1)\n",
    "    qc.cz(qr[0], qr[1]);\n",
    "      \n",
    "    #print('meas = ',th2, ph2, lb2)\n",
    "    # qstate tomography for Pi(rho)\n",
    "    \n",
    "    qst_qc1 = state_tomography_circuits(qc, [qr[0],qr[1]]) # defines the qcircuit to make qst\n",
    "    job_dev1 = qiskit.execute(qst_qc1, backend = device, shots = 8192); # executes the qst\n",
    "    print(job_dev1.job_id());\n",
    "    job_monitor(job_dev1);    \n",
    "    job_dev_mit1 = meas_filter.apply(job_dev1.result(), method='least_squares'); # error mitigation\n",
    "    qstf_qc_dev1 = StateTomographyFitter(job_dev_mit1, qst_qc1); # fits the data to extract rho\n",
    "    rho10_meas1 = qstf_qc_dev1.fit(method='lstsq'); \n",
    "    rho0_meas1 = pTraceL_num(2, 2, rho10_meas1); #print('Pi(rho) = ', rho0_meas)\n",
    "   \n",
    "    Ie2[j] = von_neumann_num(rho0_meas1) # C with reference to sigma_x\n",
    "    \n",
    "    \n",
    "    qc.u(math.pi/2, math.pi, -math.pi, qr[0])\n",
    "    qc.cx(qr[0],qr[2]);\n",
    "    qc.u(math.pi/2, 0, 0, qr[0])\n",
    "   \n",
    "    qst_qc2 = state_tomography_circuits(qc, [qr[0],qr[2]]) # defines the qcircuit to make qst\n",
    "    \n",
    "    job_dev2 = qiskit.execute(qst_qc2, backend = device, shots = 8192); # executes the qst\n",
    "    print(job_dev2.job_id());\n",
    "    job_monitor(job_dev2);    \n",
    "    job_dev_mit2 = meas_filter.apply(job_dev2.result(), method='least_squares'); # error mitigation\n",
    "    qstf_qc_dev2 = StateTomographyFitter(job_dev_mit2, qst_qc2); # fits the data to extract rho\n",
    "    rho10_meas2 = qstf_qc_dev2.fit(method='lstsq'); \n",
    "    rho0_meas2 = pTraceL_num(2, 2, rho10_meas2); #print('Pi(rho) = ', rho0_meas)\n",
    " \n",
    "    Ve2[j] = von_neumann_num(rho0_meas2)\n"
   ]
  },
  {
   "cell_type": "code",
   "execution_count": 20,
   "metadata": {},
   "outputs": [],
   "source": [
    "Rx2 = Ie2 - Se2\n",
    "Rxa2 = Je2 + Ie2 - Ve2 - Se2"
   ]
  },
  {
   "cell_type": "code",
   "execution_count": 23,
   "metadata": {},
   "outputs": [
    {
     "name": "stdout",
     "output_type": "stream",
     "text": [
      "61b0f9930745b221e47a8a9d\n",
      "Job Status: job has successfully run\n",
      "61b0f9dc0745b29f287a8aa1\n",
      "Job Status: job has successfully run\n"
     ]
    }
   ],
   "source": [
    "# fourth round\n",
    "qr = QuantumRegister(2); \n",
    "qc = qiskit.QuantumCircuit(qr);\n",
    "\n",
    "from qiskit.ignis.verification.tomography import state_tomography_circuits, StateTomographyFitter\n",
    "\n",
    "\n",
    "qc.h(qr[0])\n",
    "\n",
    "qst_qc = state_tomography_circuits(qc, [qr[0],qr[1]]) # defines the qcircuit to make qst\n",
    "job_dev = qiskit.execute(qst_qc, backend = device, shots = 8192); # executes the qst\n",
    "print(job_dev.job_id());\n",
    "job_monitor(job_dev);\n",
    "job_dev_mit = meas_filter.apply(job_dev.result(), method='least_squares'); # error mitigation\n",
    "qstf_qc_dev = StateTomographyFitter(job_dev_mit, qst_qc); # fits the data to extract rho\n",
    "rho10_measE = qstf_qc_dev.fit(method = 'lstsq');\n",
    "rho0_measE = pTraceL_num(2, 2, rho10_measE)\n",
    "\n",
    "Se3 = von_neumann_num(rho0_measE)\n",
    "\n",
    "\n",
    "qc.u(math.pi/2, math.pi, -math.pi, qr[0])\n",
    "qc.cx(qr[0],qr[1]);\n",
    "qc.u(math.pi/2, 0, 0, qr[0])\n",
    "    \n",
    "qst_qc3 = state_tomography_circuits(qc, [qr[0],qr[1]]) # defines the qcircuit to make qst\n",
    "job_dev3 = qiskit.execute(qst_qc3, backend = device, shots = 8192); # executes the qst\n",
    "print(job_dev3.job_id());\n",
    "job_monitor(job_dev3);    \n",
    "job_dev_mit3 = meas_filter.apply(job_dev3.result(), method='least_squares'); # error mitigation\n",
    "qstf_qc_dev3 = StateTomographyFitter(job_dev_mit3, qst_qc3); # fits the data to extract rho\n",
    "rho10_meas3 = qstf_qc_dev3.fit(method='lstsq'); \n",
    "rho0_meas3 = pTraceL_num(2, 2, rho10_meas3); #print('Pi(rho) = ', rho0_meas)\n",
    "\n",
    "Je3 = von_neumann_num(rho0_meas3)\n"
   ]
  },
  {
   "cell_type": "code",
   "execution_count": 22,
   "metadata": {},
   "outputs": [
    {
     "name": "stdout",
     "output_type": "stream",
     "text": [
      "61b0f3a8de9f24236f711f04\n",
      "Job Status: job has successfully run\n",
      "61b0f409ec014d6617c8a734\n",
      "Job Status: job has successfully run\n",
      "61b0f45bec014dc7f9c8a738\n",
      "Job Status: job has successfully run\n",
      "61b0f4aa78707c810af61b95\n",
      "Job Status: job has successfully run\n",
      "61b0f4f90745b25d217a8a7c\n",
      "Job Status: job has successfully run\n",
      "61b0f54a78707c2ab1f61b99\n",
      "Job Status: job has successfully run\n",
      "61b0f5a5dccd005d509fcc29\n",
      "Job Status: job has successfully run\n",
      "61b0f5ffdccd0004429fcc2b\n",
      "Job Status: job has successfully run\n",
      "61b0f644de9f241e3d711f25\n",
      "Job Status: job has successfully run\n",
      "61b0f695dc3b19532b792de0\n",
      "Job Status: job has successfully run\n",
      "61b0f6e401bcf90c3dba73c5\n",
      "Job Status: job has successfully run\n",
      "61b0f73d78707cccb3f61ba4\n",
      "Job Status: job has successfully run\n",
      "61b0f78f59a04b168e95903e\n",
      "Job Status: job has successfully run\n",
      "61b0f7e8de9f2429d4711f31\n",
      "Job Status: job has successfully run\n",
      "61b0f83759a04b3f9f959047\n",
      "Job Status: job has successfully run\n",
      "61b0f893db63d7cf0aaee806\n",
      "Job Status: job has successfully run\n",
      "61b0f8e20745b27f157a8a95\n",
      "Job Status: job has successfully run\n",
      "61b0f93159a04b5556959051\n",
      "Job Status: job has successfully run\n"
     ]
    }
   ],
   "source": [
    "qr = QuantumRegister(3); \n",
    "qc = qiskit.QuantumCircuit(qr);\n",
    "\n",
    "from qiskit.ignis.verification.tomography import state_tomography_circuits, StateTomographyFitter\n",
    "\n",
    "\n",
    "th_min = 0; th_max = math.pi/2; N = 8; dth = (th_max-th_min)/N; th = -dth + 10**-1; thv = np.zeros(N+1)\n",
    "\n",
    "Ie3 = np.zeros(N+1)\n",
    "Ve3 = np.zeros(N+1)\n",
    "\n",
    "for j in range(0, N+1):\n",
    "    qr = QuantumRegister(5)\n",
    "    qc = qiskit.QuantumCircuit(qr)\n",
    "    th += dth\n",
    "    thv[j] = th \n",
    "    \n",
    "    # State preparation\n",
    "    th1 = th; ph1 = 0; lb1 = 0 # angles for the state preparation\n",
    "    \n",
    "    qc.h(qr[0])\n",
    "    \n",
    "    qc.u(th1, ph1, lb1, qr[1]); #print('prep = ',th1, ph1, lb1)\n",
    "    qc.cz(qr[0], qr[1]);\n",
    "      \n",
    "    #print('meas = ',th2, ph2, lb2)\n",
    "    # qstate tomography for Pi(rho)\n",
    "    \n",
    "    qst_qc1 = state_tomography_circuits(qc, [qr[0],qr[1]]) # defines the qcircuit to make qst\n",
    "    job_dev1 = qiskit.execute(qst_qc1, backend = device, shots = 8192); # executes the qst\n",
    "    print(job_dev1.job_id());\n",
    "    job_monitor(job_dev1);    \n",
    "    job_dev_mit1 = meas_filter.apply(job_dev1.result(), method='least_squares'); # error mitigation\n",
    "    qstf_qc_dev1 = StateTomographyFitter(job_dev_mit1, qst_qc1); # fits the data to extract rho\n",
    "    rho10_meas1 = qstf_qc_dev1.fit(method='lstsq'); \n",
    "    rho0_meas1 = pTraceL_num(2, 2, rho10_meas1); #print('Pi(rho) = ', rho0_meas)\n",
    "   \n",
    "    Ie3[j] = von_neumann_num(rho0_meas1) # C with reference to sigma_x\n",
    "    \n",
    "    \n",
    "    qc.u(math.pi/2, math.pi, -math.pi, qr[0])\n",
    "    qc.cx(qr[0],qr[2]);\n",
    "    qc.u(math.pi/2, 0, 0, qr[0])\n",
    "  \n",
    "    qst_qc2 = state_tomography_circuits(qc, [qr[0],qr[2]]) # defines the qcircuit to make qst\n",
    "    \n",
    "    job_dev2 = qiskit.execute(qst_qc2, backend = device, shots = 8192); # executes the qst\n",
    "    print(job_dev2.job_id());\n",
    "    job_monitor(job_dev2);    \n",
    "    job_dev_mit2 = meas_filter.apply(job_dev2.result(), method='least_squares'); # error mitigation\n",
    "    qstf_qc_dev2 = StateTomographyFitter(job_dev_mit2, qst_qc2); # fits the data to extract rho\n",
    "    rho10_meas2 = qstf_qc_dev2.fit(method='lstsq'); \n",
    "    rho0_meas2 = pTraceL_num(2, 2, rho10_meas2); #print('Pi(rho) = ', rho0_meas)\n",
    " \n",
    "    Ve3[j] = von_neumann_num(rho0_meas2)\n"
   ]
  },
  {
   "cell_type": "code",
   "execution_count": 24,
   "metadata": {},
   "outputs": [],
   "source": [
    "Rx3 = Ie3 - Se3\n",
    "Rxa3 = Je3 + Ie3 - Ve3 - Se3\n",
    "\n"
   ]
  },
  {
   "cell_type": "code",
   "execution_count": 25,
   "metadata": {},
   "outputs": [],
   "source": [
    "import numpy as np\n",
    "\n",
    "\n",
    "Rxav = (Rx + Rx1+ Rx2+ Rx3)/4\n",
    "Rxaav = (Rxa + Rxa1 + Rxa2 + Rxa3)/4\n",
    "\n",
    "A = (Rx**2 + Rx1**2 + Rx2**2 + Rx3**2)\n",
    "B = (Rxa**2 + Rxa1**2 + Rxa2**2 + Rxa3**2)\n",
    "\n",
    "\n",
    "VarRx = np.sqrt(0.25*A - Rxav**2)\n",
    "VarRa = np.sqrt(0.25*B - Rxaav**2)\n",
    "\n",
    "\n",
    "\n"
   ]
  },
  {
   "cell_type": "code",
   "execution_count": 26,
   "metadata": {},
   "outputs": [
    {
     "data": {
      "text/plain": [
       "array([0.01529513, 0.00780722, 0.00419635, 0.00575349, 0.00165224,\n",
       "       0.00532847, 0.00278187, 0.00123898, 0.00156086])"
      ]
     },
     "execution_count": 26,
     "metadata": {},
     "output_type": "execute_result"
    }
   ],
   "source": [
    "VarRx"
   ]
  },
  {
   "cell_type": "code",
   "execution_count": 34,
   "metadata": {},
   "outputs": [],
   "source": [
    "qr = QuantumRegister(5); \n",
    "qc = qiskit.QuantumCircuit(qr);\n",
    "\n",
    "from qiskit.ignis.verification.tomography import state_tomography_circuits, StateTomographyFitter\n",
    "\n",
    "\n",
    "th_min = 0; th_max = math.pi/2; N = 8; dth = (th_max-th_min)/N; th = -dth + 10**-1; thv = np.zeros(N+1)\n",
    "\n",
    "I = np.zeros(N+1)\n",
    "V = np.zeros(N+1)\n",
    "J = np.zeros(N+1)\n",
    "#S = np.zeros(N+1)\n",
    "\n",
    "for j in range(0, N+1):\n",
    "    qr = QuantumRegister(5)\n",
    "    qc = qiskit.QuantumCircuit(qr)\n",
    "    th += dth\n",
    "    thv[j] = th \n",
    "    \n",
    "    # State preparation\n",
    "    th1 = th; ph1 = 0; lb1 = 0 # angles for the state preparation\n",
    "    \n",
    "    qc.h(qr[0])\n",
    "       \n",
    "    qc.u(th1, ph1, lb1, qr[1]); #print('prep = ',th1, ph1, lb1)\n",
    "    qc.cz(qr[0], qr[1]);\n",
    "        \n",
    "    #print('meas = ',th2, ph2, lb2)\n",
    "    # qstate tomography for Pi(rho)\n",
    "    qst_qc = state_tomography_circuits(qc, [qr[0],qr[1]]) # defines the qcircuit to make qst\n",
    "    \n",
    "    job = qiskit.execute(qst_qc, Aer.get_backend('qasm_simulator'), shots = 8192) # executes the qst\n",
    "    qstf_qc = StateTomographyFitter(job.result(), qst_qc) # fits the data to extract rho\n",
    "    rho10_meas = qstf_qc.fit(method='lstsq'); \n",
    "    rho0_meas = pTraceL_num(2, 2, rho10_meas); #print('Pi(rho) = ', rho0_meas)\n",
    "    \n",
    "    I[j] = von_neumann_num(rho0_meas) # C with reference to sigma_x\n",
    "    \n",
    "    \n",
    "    qc.u(math.pi/2, math.pi, -math.pi, qr[0])\n",
    "    qc.cx(qr[0],qr[2]);\n",
    "    qc.u(math.pi/2, 0, 0, qr[0])\n",
    "    \n",
    "    qst_qc1 = state_tomography_circuits(qc, [qr[0],qr[2]]) # defines the qcircuit to make qst\n",
    "    \n",
    "    job = qiskit.execute(qst_qc1, Aer.get_backend('qasm_simulator'), shots = 8192) # executes the qst\n",
    "    qstf_qc1 = StateTomographyFitter(job.result(), qst_qc1) # fits the data to extract rho\n",
    "    rho10_meas1 = qstf_qc1.fit(method='lstsq'); \n",
    "    rho0_meas1 = pTraceL_num(2, 2, rho10_meas1); #print('Pi(rho) = ', rho0_meas)\n",
    "\n",
    "    V[j] = von_neumann_num(rho0_meas1)\n",
    "    \n",
    "    qc.h(qr[3])\n",
    "    \n",
    "#    qst_qc4 = state_tomography_circuits(qc, [qr[3],qr[4]]) # defines the qcircuit to make qst\n",
    "    \n",
    "#    job = qiskit.execute(qst_qc4, Aer.get_backend('qasm_simulator'), shots = 8192) # executes the qst\n",
    "#    qstf_qc4 = StateTomographyFitter(job.result(), qst_qc4) # fits the data to extract rho\n",
    "#    rho10_meas4 = qstf_qc4.fit(method='lstsq'); \n",
    "#    rho0_meas4 = pTraceL_num(2, 2, rho10_meas4); #print('Pi(rho) = ', rho0_meas)\n",
    "\n",
    "#    S[j] = von_neumann_num(rho0_meas4)\n",
    "    \n",
    "    \n",
    "    qc.u(math.pi/2, math.pi, -math.pi, qr[3])\n",
    "    qc.cx(qr[3],qr[4]);\n",
    "    qc.u(math.pi/2, 0, 0, qr[3])\n",
    "    \n",
    "    qst_qc2 = state_tomography_circuits(qc, [qr[3],qr[4]]) # defines the qcircuit to make qst\n",
    "    \n",
    "    job = qiskit.execute(qst_qc2, Aer.get_backend('qasm_simulator'), shots = 8192) # executes the qst\n",
    "    qstf_qc2 = StateTomographyFitter(job.result(), qst_qc2) # fits the data to extract rho\n",
    "    rho10_meas2 = qstf_qc2.fit(method='lstsq'); \n",
    "    rho0_meas2 = pTraceL_num(2, 2, rho10_meas2); #print('Pi(rho) = ', rho0_meas)\n",
    "\n",
    "    J[j] = von_neumann_num(rho0_meas2)\n"
   ]
  },
  {
   "cell_type": "code",
   "execution_count": null,
   "metadata": {},
   "outputs": [],
   "source": []
  },
  {
   "cell_type": "code",
   "execution_count": 36,
   "metadata": {
    "scrolled": true
   },
   "outputs": [
    {
     "data": {
      "image/png": "[encoded data removed]",
      "text/plain": [
       "<Figure size 500x400 with 1 Axes>"
      ]
     },
     "metadata": {
      "needs_background": "light"
     },
     "output_type": "display_data"
    }
   ],
   "source": [
    "import matplotlib\n",
    "plt.style.use(['science', 'notebook', 'grid'])    \n",
    "  \n",
    "    \n",
    "matplotlib.rcParams.update({'font.size':12}); plt.figure(figsize = (5,4), dpi = 100)\n",
    "#plt.plot(thv, Pv, 'o--',label = r'$P_{vn}^{\\sigma_{z}}(\\rho_{sim})$')\n",
    "plt.plot(thv, J + I - V, ':', label = r'$\\Delta \\mathfrak{R}_{X´sim}$')\n",
    "plt.plot(thv, I, '--', color = \"darkgreen\" ,label = r'$\\Delta \\mathfrak{R}_{X sim}$')\n",
    "plt.errorbar(thv, Rxaav, yerr = VarRa, color = \"black\" ,fmt = 'o', ecolor = 'red', label = r'$\\Delta \\mathfrak{R}_{X´exp}$')\n",
    "plt.errorbar(thv, Rxav, yerr = VarRx, color = \"darkred\" ,fmt = '.', ecolor = 'red', label =  r'$\\Delta \\mathfrak{R}_{X exp}$'); \n",
    "#plt.plot(thv, Je + Ie - Ve - Se, 'o', label = r'$\\Delta \\mathfrak{R}_{X´exp}$')\n",
    "#Plt.plot(thv, Ie - Se, '^', label = r'$\\Delta \\mathfrak{R}_{X exp}$')\n",
    "\n",
    "#plt.plot(thv, IE, 'rx:', label = r'$\\mathcal{R}_E$')\n",
    "\n",
    "#plt.plot(thv, PvE, ':', label = r'$P_{vn}^{\\sigma_{z}}(\\rho_{exp})$')\n",
    "plt.xlabel(r'$\\theta$'); \n",
    "    #plt.legend(loc = 'center right', bbox_to_anchor=(th_max-0.05, 0.5))\n",
    "plt.legend(loc = 'best')\n",
    "plt.savefig('varexp.pdf', format='pdf',dpi = 1200, bbox_inches='tight')\n",
    "plt.show()"
   ]
  },
  {
   "cell_type": "code",
   "execution_count": null,
   "metadata": {},
   "outputs": [],
   "source": []
  }
 ],
 "metadata": {
  "kernelspec": {
   "display_name": "Python 3",
   "language": "python",
   "name": "python3"
  },
  "language_info": {
   "codemirror_mode": {
    "name": "ipython",
    "version": 3
   },
   "file_extension": ".py",
   "mimetype": "text/x-python",
   "name": "python",
   "nbconvert_exporter": "python",
   "pygments_lexer": "ipython3",
   "version": "3.7.6"
  }
 },
 "nbformat": 4,
 "nbformat_minor": 4
}
